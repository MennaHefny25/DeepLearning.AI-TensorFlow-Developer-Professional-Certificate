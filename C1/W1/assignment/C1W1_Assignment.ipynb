{
  "cells": [
    {
      "cell_type": "markdown",
      "metadata": {
        "id": "mw2VBrBcgvGa"
      },
      "source": [
        "# Week 1 Assignment: Housing Prices\n",
        "\n",
        "In this exercise you'll try to build a neural network that predicts the price of a house according to a simple formula.\n",
        "\n",
        "Imagine that house pricing is as easy as:\n",
        "\n",
        "A house has a base cost of 50k, and every additional bedroom adds a cost of 50k. This will make a 1 bedroom house cost 100k, a 2 bedroom house cost 150k etc.\n",
        "\n",
        "How would you create a neural network that learns this relationship so that it would predict a 7 bedroom house as costing close to 400k etc.\n",
        "\n",
        "Hint: Your network might work better if you scale the house price down. You don't have to give the answer 400...it might be better to create something that predicts the number 4, and then your answer is in the 'hundreds of thousands' etc."
      ]
    },
    {
      "cell_type": "code",
      "execution_count": 2,
      "metadata": {
        "id": "PUNO2E6SeURH",
        "tags": [
          "graded"
        ]
      },
      "outputs": [],
      "source": [
        "import tensorflow as tf\n",
        "import numpy as np\n",
        "from tensorflow import keras"
      ]
    },
    {
      "cell_type": "code",
      "execution_count": 9,
      "metadata": {
        "id": "B-74xrKrBqGJ",
        "tags": [
          "graded"
        ]
      },
      "outputs": [],
      "source": [
        "# GRADED FUNCTION: house_model\n",
        "def house_model():\n",
        "    ### START CODE HERE\n",
        "\n",
        "    # Define input and output tensors with the values for houses with 1 up to 6 bedrooms\n",
        "    # Hint: Remember to explictly set the dtype as float\n",
        "    xs = np.array([1.0, 2.0, 3.0, 4.0, 5.0, 6.0], dtype=float)\n",
        "    ys = np.array([1.0, 1.5, 2.0, 2.5, 3.0, 3.5], dtype=float)\n",
        "\n",
        "    # Define your model (should be a model with 1 dense layer and 1 unit)\n",
        "    model = tf.keras.Sequential([keras.layers.Dense(units=1, input_shape=[1])])\n",
        "\n",
        "    # Compile your model\n",
        "    # Set the optimizer to Stochastic Gradient Descent\n",
        "    # and use Mean Squared Error as the loss function\n",
        "    model.compile(optimizer='sgd', loss='mean_squared_error')\n",
        "\n",
        "    # Train your model for 1000 epochs by feeding the i/o tensors\n",
        "    model.fit(xs, ys, epochs=100)\n",
        "\n",
        "    ### END CODE HERE\n",
        "    return model"
      ]
    },
    {
      "cell_type": "markdown",
      "metadata": {
        "id": "I9fPaPhUSbpV"
      },
      "source": [
        "Now that you have a function that returns a compiled and trained model when invoked, use it to get the model to predict the price of houses:"
      ]
    },
    {
      "cell_type": "code",
      "execution_count": 10,
      "metadata": {
        "tags": [
          "graded"
        ],
        "colab": {
          "base_uri": "https://localhost:8080/"
        },
        "id": "fprLCwWiSbpV",
        "outputId": "99d5719a-2ae4-49eb-b10c-5f190abb1455"
      },
      "outputs": [
        {
          "output_type": "stream",
          "name": "stdout",
          "text": [
            "Epoch 1/100\n",
            "1/1 [==============================] - 0s 375ms/step - loss: 62.1569\n",
            "Epoch 2/100\n",
            "1/1 [==============================] - 0s 9ms/step - loss: 28.7684\n",
            "Epoch 3/100\n",
            "1/1 [==============================] - 0s 9ms/step - loss: 13.3151\n",
            "Epoch 4/100\n",
            "1/1 [==============================] - 0s 8ms/step - loss: 6.1629\n",
            "Epoch 5/100\n",
            "1/1 [==============================] - 0s 8ms/step - loss: 2.8526\n",
            "Epoch 6/100\n",
            "1/1 [==============================] - 0s 9ms/step - loss: 1.3206\n",
            "Epoch 7/100\n",
            "1/1 [==============================] - 0s 8ms/step - loss: 0.6115\n",
            "Epoch 8/100\n",
            "1/1 [==============================] - 0s 9ms/step - loss: 0.2833\n",
            "Epoch 9/100\n",
            "1/1 [==============================] - 0s 12ms/step - loss: 0.1314\n",
            "Epoch 10/100\n",
            "1/1 [==============================] - 0s 9ms/step - loss: 0.0611\n",
            "Epoch 11/100\n",
            "1/1 [==============================] - 0s 8ms/step - loss: 0.0285\n",
            "Epoch 12/100\n",
            "1/1 [==============================] - 0s 13ms/step - loss: 0.0134\n",
            "Epoch 13/100\n",
            "1/1 [==============================] - 0s 11ms/step - loss: 0.0065\n",
            "Epoch 14/100\n",
            "1/1 [==============================] - 0s 12ms/step - loss: 0.0032\n",
            "Epoch 15/100\n",
            "1/1 [==============================] - 0s 10ms/step - loss: 0.0017\n",
            "Epoch 16/100\n",
            "1/1 [==============================] - 0s 7ms/step - loss: 0.0011\n",
            "Epoch 17/100\n",
            "1/1 [==============================] - 0s 8ms/step - loss: 7.2897e-04\n",
            "Epoch 18/100\n",
            "1/1 [==============================] - 0s 8ms/step - loss: 5.7763e-04\n",
            "Epoch 19/100\n",
            "1/1 [==============================] - 0s 6ms/step - loss: 5.0584e-04\n",
            "Epoch 20/100\n",
            "1/1 [==============================] - 0s 8ms/step - loss: 4.7087e-04\n",
            "Epoch 21/100\n",
            "1/1 [==============================] - 0s 11ms/step - loss: 4.5297e-04\n",
            "Epoch 22/100\n",
            "1/1 [==============================] - 0s 7ms/step - loss: 4.4297e-04\n",
            "Epoch 23/100\n",
            "1/1 [==============================] - 0s 7ms/step - loss: 4.3664e-04\n",
            "Epoch 24/100\n",
            "1/1 [==============================] - 0s 15ms/step - loss: 4.3202e-04\n",
            "Epoch 25/100\n",
            "1/1 [==============================] - 0s 6ms/step - loss: 4.2821e-04\n",
            "Epoch 26/100\n",
            "1/1 [==============================] - 0s 6ms/step - loss: 4.2478e-04\n",
            "Epoch 27/100\n",
            "1/1 [==============================] - 0s 7ms/step - loss: 4.2155e-04\n",
            "Epoch 28/100\n",
            "1/1 [==============================] - 0s 10ms/step - loss: 4.1841e-04\n",
            "Epoch 29/100\n",
            "1/1 [==============================] - 0s 7ms/step - loss: 4.1533e-04\n",
            "Epoch 30/100\n",
            "1/1 [==============================] - 0s 9ms/step - loss: 4.1229e-04\n",
            "Epoch 31/100\n",
            "1/1 [==============================] - 0s 7ms/step - loss: 4.0928e-04\n",
            "Epoch 32/100\n",
            "1/1 [==============================] - 0s 12ms/step - loss: 4.0630e-04\n",
            "Epoch 33/100\n",
            "1/1 [==============================] - 0s 6ms/step - loss: 4.0334e-04\n",
            "Epoch 34/100\n",
            "1/1 [==============================] - 0s 7ms/step - loss: 4.0040e-04\n",
            "Epoch 35/100\n",
            "1/1 [==============================] - 0s 12ms/step - loss: 3.9748e-04\n",
            "Epoch 36/100\n",
            "1/1 [==============================] - 0s 7ms/step - loss: 3.9458e-04\n",
            "Epoch 37/100\n",
            "1/1 [==============================] - 0s 7ms/step - loss: 3.9171e-04\n",
            "Epoch 38/100\n",
            "1/1 [==============================] - 0s 9ms/step - loss: 3.8885e-04\n",
            "Epoch 39/100\n",
            "1/1 [==============================] - 0s 9ms/step - loss: 3.8602e-04\n",
            "Epoch 40/100\n",
            "1/1 [==============================] - 0s 12ms/step - loss: 3.8321e-04\n",
            "Epoch 41/100\n",
            "1/1 [==============================] - 0s 7ms/step - loss: 3.8042e-04\n",
            "Epoch 42/100\n",
            "1/1 [==============================] - 0s 7ms/step - loss: 3.7765e-04\n",
            "Epoch 43/100\n",
            "1/1 [==============================] - 0s 13ms/step - loss: 3.7489e-04\n",
            "Epoch 44/100\n",
            "1/1 [==============================] - 0s 7ms/step - loss: 3.7216e-04\n",
            "Epoch 45/100\n",
            "1/1 [==============================] - 0s 7ms/step - loss: 3.6945e-04\n",
            "Epoch 46/100\n",
            "1/1 [==============================] - 0s 12ms/step - loss: 3.6676e-04\n",
            "Epoch 47/100\n",
            "1/1 [==============================] - 0s 7ms/step - loss: 3.6409e-04\n",
            "Epoch 48/100\n",
            "1/1 [==============================] - 0s 14ms/step - loss: 3.6144e-04\n",
            "Epoch 49/100\n",
            "1/1 [==============================] - 0s 6ms/step - loss: 3.5880e-04\n",
            "Epoch 50/100\n",
            "1/1 [==============================] - 0s 6ms/step - loss: 3.5619e-04\n",
            "Epoch 51/100\n",
            "1/1 [==============================] - 0s 7ms/step - loss: 3.5359e-04\n",
            "Epoch 52/100\n",
            "1/1 [==============================] - 0s 13ms/step - loss: 3.5102e-04\n",
            "Epoch 53/100\n",
            "1/1 [==============================] - 0s 6ms/step - loss: 3.4846e-04\n",
            "Epoch 54/100\n",
            "1/1 [==============================] - 0s 7ms/step - loss: 3.4592e-04\n",
            "Epoch 55/100\n",
            "1/1 [==============================] - 0s 6ms/step - loss: 3.4340e-04\n",
            "Epoch 56/100\n",
            "1/1 [==============================] - 0s 11ms/step - loss: 3.4090e-04\n",
            "Epoch 57/100\n",
            "1/1 [==============================] - 0s 6ms/step - loss: 3.3842e-04\n",
            "Epoch 58/100\n",
            "1/1 [==============================] - 0s 6ms/step - loss: 3.3595e-04\n",
            "Epoch 59/100\n",
            "1/1 [==============================] - 0s 6ms/step - loss: 3.3350e-04\n",
            "Epoch 60/100\n",
            "1/1 [==============================] - 0s 14ms/step - loss: 3.3107e-04\n",
            "Epoch 61/100\n",
            "1/1 [==============================] - 0s 6ms/step - loss: 3.2866e-04\n",
            "Epoch 62/100\n",
            "1/1 [==============================] - 0s 6ms/step - loss: 3.2627e-04\n",
            "Epoch 63/100\n",
            "1/1 [==============================] - 0s 7ms/step - loss: 3.2389e-04\n",
            "Epoch 64/100\n",
            "1/1 [==============================] - 0s 13ms/step - loss: 3.2153e-04\n",
            "Epoch 65/100\n",
            "1/1 [==============================] - 0s 13ms/step - loss: 3.1919e-04\n",
            "Epoch 66/100\n",
            "1/1 [==============================] - 0s 6ms/step - loss: 3.1686e-04\n",
            "Epoch 67/100\n",
            "1/1 [==============================] - 0s 6ms/step - loss: 3.1455e-04\n",
            "Epoch 68/100\n",
            "1/1 [==============================] - 0s 13ms/step - loss: 3.1226e-04\n",
            "Epoch 69/100\n",
            "1/1 [==============================] - 0s 10ms/step - loss: 3.0999e-04\n",
            "Epoch 70/100\n",
            "1/1 [==============================] - 0s 6ms/step - loss: 3.0773e-04\n",
            "Epoch 71/100\n",
            "1/1 [==============================] - 0s 14ms/step - loss: 3.0549e-04\n",
            "Epoch 72/100\n",
            "1/1 [==============================] - 0s 5ms/step - loss: 3.0326e-04\n",
            "Epoch 73/100\n",
            "1/1 [==============================] - 0s 6ms/step - loss: 3.0105e-04\n",
            "Epoch 74/100\n",
            "1/1 [==============================] - 0s 6ms/step - loss: 2.9886e-04\n",
            "Epoch 75/100\n",
            "1/1 [==============================] - 0s 6ms/step - loss: 2.9668e-04\n",
            "Epoch 76/100\n",
            "1/1 [==============================] - 0s 11ms/step - loss: 2.9452e-04\n",
            "Epoch 77/100\n",
            "1/1 [==============================] - 0s 5ms/step - loss: 2.9237e-04\n",
            "Epoch 78/100\n",
            "1/1 [==============================] - 0s 5ms/step - loss: 2.9024e-04\n",
            "Epoch 79/100\n",
            "1/1 [==============================] - 0s 6ms/step - loss: 2.8813e-04\n",
            "Epoch 80/100\n",
            "1/1 [==============================] - 0s 6ms/step - loss: 2.8603e-04\n",
            "Epoch 81/100\n",
            "1/1 [==============================] - 0s 11ms/step - loss: 2.8395e-04\n",
            "Epoch 82/100\n",
            "1/1 [==============================] - 0s 5ms/step - loss: 2.8188e-04\n",
            "Epoch 83/100\n",
            "1/1 [==============================] - 0s 5ms/step - loss: 2.7982e-04\n",
            "Epoch 84/100\n",
            "1/1 [==============================] - 0s 6ms/step - loss: 2.7778e-04\n",
            "Epoch 85/100\n",
            "1/1 [==============================] - 0s 6ms/step - loss: 2.7576e-04\n",
            "Epoch 86/100\n",
            "1/1 [==============================] - 0s 9ms/step - loss: 2.7375e-04\n",
            "Epoch 87/100\n",
            "1/1 [==============================] - 0s 6ms/step - loss: 2.7176e-04\n",
            "Epoch 88/100\n",
            "1/1 [==============================] - 0s 6ms/step - loss: 2.6978e-04\n",
            "Epoch 89/100\n",
            "1/1 [==============================] - 0s 11ms/step - loss: 2.6781e-04\n",
            "Epoch 90/100\n",
            "1/1 [==============================] - 0s 6ms/step - loss: 2.6586e-04\n",
            "Epoch 91/100\n",
            "1/1 [==============================] - 0s 6ms/step - loss: 2.6392e-04\n",
            "Epoch 92/100\n",
            "1/1 [==============================] - 0s 6ms/step - loss: 2.6200e-04\n",
            "Epoch 93/100\n",
            "1/1 [==============================] - 0s 8ms/step - loss: 2.6009e-04\n",
            "Epoch 94/100\n",
            "1/1 [==============================] - 0s 6ms/step - loss: 2.5820e-04\n",
            "Epoch 95/100\n",
            "1/1 [==============================] - 0s 10ms/step - loss: 2.5632e-04\n",
            "Epoch 96/100\n",
            "1/1 [==============================] - 0s 7ms/step - loss: 2.5445e-04\n",
            "Epoch 97/100\n",
            "1/1 [==============================] - 0s 6ms/step - loss: 2.5259e-04\n",
            "Epoch 98/100\n",
            "1/1 [==============================] - 0s 8ms/step - loss: 2.5075e-04\n",
            "Epoch 99/100\n",
            "1/1 [==============================] - 0s 6ms/step - loss: 2.4893e-04\n",
            "Epoch 100/100\n",
            "1/1 [==============================] - 0s 6ms/step - loss: 2.4711e-04\n"
          ]
        }
      ],
      "source": [
        "# Get your trained model\n",
        "model = house_model()"
      ]
    },
    {
      "cell_type": "markdown",
      "metadata": {
        "id": "8SIT4jhjSbpW"
      },
      "source": [
        "Now that your model has finished training it is time to test it out! You can do so by running the next cell."
      ]
    },
    {
      "cell_type": "code",
      "execution_count": 11,
      "metadata": {
        "id": "kMlInDdSBqGK",
        "tags": [
          "graded"
        ],
        "colab": {
          "base_uri": "https://localhost:8080/"
        },
        "outputId": "19853db3-b9af-440f-b17c-928f41b81e4f"
      },
      "outputs": [
        {
          "output_type": "stream",
          "name": "stdout",
          "text": [
            "1/1 [==============================] - 0s 56ms/step\n",
            "[4.0226746]\n"
          ]
        }
      ],
      "source": [
        "new_y = 7.0\n",
        "prediction = model.predict([new_y])[0]\n",
        "print(prediction)"
      ]
    },
    {
      "cell_type": "markdown",
      "metadata": {
        "id": "6NnZ0G5jSbpW"
      },
      "source": [
        "If everything went as expected you should see a prediction value very close to 4. **If not, try adjusting your code before submitting the assignment.** Notice that you can play around with the value of `new_y` to get different predictions. In general you should see that the network was able to learn the linear relationship between `x` and `y`, so if you use a value of 8.0 you should get a prediction close to 4.5 and so on."
      ]
    },
    {
      "cell_type": "markdown",
      "metadata": {
        "id": "fyctBnDESbpW"
      },
      "source": [
        "**Congratulations on finishing this week's assignment!**\n",
        "\n",
        "You have successfully coded a neural network that learned the linear relationship between two variables. Nice job!\n",
        "\n",
        "**Keep it up!**"
      ]
    }
  ],
  "metadata": {
    "kernelspec": {
      "display_name": "Python 3",
      "language": "python",
      "name": "python3"
    },
    "language_info": {
      "codemirror_mode": {
        "name": "ipython",
        "version": 3
      },
      "file_extension": ".py",
      "mimetype": "text/x-python",
      "name": "python",
      "nbconvert_exporter": "python",
      "pygments_lexer": "ipython3",
      "version": "3.8.8"
    },
    "colab": {
      "provenance": [],
      "toc_visible": true
    }
  },
  "nbformat": 4,
  "nbformat_minor": 0
}